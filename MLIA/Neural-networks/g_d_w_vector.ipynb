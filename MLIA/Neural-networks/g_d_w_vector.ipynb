{
 "cells": [
  {
   "cell_type": "code",
   "execution_count": 1,
   "metadata": {},
   "outputs": [],
   "source": [
    "import numpy as np\n",
    "import matplotlib.pyplot as plt\n",
    "import math, copy"
   ]
  },
  {
   "cell_type": "code",
   "execution_count": 2,
   "metadata": {},
   "outputs": [],
   "source": [
    "x = np.array([0, 0.1, 1, 1.8, 2.5, 3.1, 3.3, 3.7, 4, 4.8, 5.5, 6, 6.3, 6.8, 7.3, 8, 8.8, 9.2, 9.6, 10]).reshape((-1, 1))\n",
    "y = np.array([5, 4.7, 4, 3.7, 3.9, 4, 3.7, 3.4, 3.8, 3, 2.5, 2.3, 1.9, 1.7, 2.1, 1.8, 2.3, 0.7, 1.3, 1])\n"
   ]
  },
  {
   "cell_type": "code",
   "execution_count": 3,
   "metadata": {},
   "outputs": [
    {
     "data": {
      "image/png": "[encoded data removed]",
      "text/plain": [
       "<Figure size 800x300 with 1 Axes>"
      ]
     },
     "metadata": {},
     "output_type": "display_data"
    }
   ],
   "source": [
    "plt.figure(figsize=(8,3))\n",
    "plt.plot(x, y,'o',color='k')\n",
    "plt.show()"
   ]
  },
  {
   "cell_type": "code",
   "execution_count": 4,
   "metadata": {},
   "outputs": [
    {
     "name": "stdout",
     "output_type": "stream",
     "text": [
      "x Shape: (20, 1), x Type:<class 'numpy.ndarray'>\n",
      "\n",
      "[[ 0. ]\n",
      " [ 0.1]\n",
      " [ 1. ]\n",
      " [ 1.8]\n",
      " [ 2.5]\n",
      " [ 3.1]\n",
      " [ 3.3]\n",
      " [ 3.7]\n",
      " [ 4. ]\n",
      " [ 4.8]\n",
      " [ 5.5]\n",
      " [ 6. ]\n",
      " [ 6.3]\n",
      " [ 6.8]\n",
      " [ 7.3]\n",
      " [ 8. ]\n",
      " [ 8.8]\n",
      " [ 9.2]\n",
      " [ 9.6]\n",
      " [10. ]]\n",
      "y Shape: (20,), y Type:<class 'numpy.ndarray'>\n",
      ")\n",
      "[5.  4.7 4.  3.7 3.9 4.  3.7 3.4 3.8 3.  2.5 2.3 1.9 1.7 2.1 1.8 2.3 0.7\n",
      " 1.3 1. ]\n"
     ]
    }
   ],
   "source": [
    "b0 = 0\n",
    "w0 = np.random.randint(1,x.shape[0])                                          \n",
    "\n",
    "print(f\"x Shape: {x.shape}, x Type:{type(x)}\\n\")\n",
    "print(x)\n",
    "print(f\"y Shape: {y.shape}, y Type:{type(y)}\\n)\")\n",
    "print(y)\n",
    "\n"
   ]
  },
  {
   "cell_type": "code",
   "execution_count": 5,
   "metadata": {},
   "outputs": [],
   "source": [
    "def f(x, w, b): \n",
    "\n",
    "    f=x.dot(w.T)+b                                                      #f= np.dot(x, w) + b     \n",
    "    return f  \n"
   ]
  },
  {
   "cell_type": "code",
   "execution_count": 6,
   "metadata": {},
   "outputs": [],
   "source": [
    "def f_loop(x, w, b): \n",
    "\n",
    "    n = x.shape[0]\n",
    "    f = 0\n",
    "    for i in range(n):\n",
    "        f_i = x[i] * w[i]\n",
    "        f = f + f_i         \n",
    "    f = f + b                \n",
    "    return f"
   ]
  },
  {
   "cell_type": "code",
   "execution_count": 7,
   "metadata": {},
   "outputs": [],
   "source": [
    "def j(x, y, w, b): \n",
    "\n",
    "    m = x.shape[0]\n",
    "    sum = 0\n",
    "    for i in range(m):                                \n",
    "        yhat_i = np.dot(x[i], w) + b           \n",
    "        sum = sum + (yhat_i - y[i])**2       \n",
    "    sum = sum / (2 * m)                          \n",
    "    return sum"
   ]
  },
  {
   "cell_type": "code",
   "execution_count": 8,
   "metadata": {},
   "outputs": [
    {
     "name": "stdout",
     "output_type": "stream",
     "text": [
      "Cost at optimal w : [4931.031]\n",
      "\n"
     ]
    }
   ],
   "source": [
    "sum = j(x, y, w0, b0)\n",
    "print(f'Cost at optimal w : {sum}\\n')"
   ]
  },
  {
   "cell_type": "code",
   "execution_count": 9,
   "metadata": {},
   "outputs": [
    {
     "name": "stdout",
     "output_type": "stream",
     "text": [
      "dj_db at initial w,b: [83.69]\n",
      "\n",
      "dj_dw at initial w,b: [590.442]\n",
      "\n"
     ]
    }
   ],
   "source": [
    "def dj(x, y, w, b): \n",
    "\n",
    "    m,n = x.shape           \n",
    "    dj_dw = np.zeros((n,))\n",
    "    dj_db = 0\n",
    "\n",
    "    for i in range(m):                             \n",
    "        err = (np.dot(x[i], w) + b) - y[i]   \n",
    "        for j in range(n):                         \n",
    "            dj_dw = dj_dw[j] + err * x[i, j]    \n",
    "        dj_db = dj_db + err                        \n",
    "    dj_dw = dj_dw / m                                \n",
    "    dj_db = dj_db / m                                \n",
    "        \n",
    "    return dj_db, dj_dw\n",
    " \n",
    "tmp_dj_db, tmp_dj_dw = dj(x, y, w0, b0)\n",
    "print(f'dj_db at initial w,b: {tmp_dj_db}\\n')\n",
    "\n",
    "print(f'dj_dw at initial w,b: {tmp_dj_dw}\\n')\n"
   ]
  },
  {
   "cell_type": "code",
   "execution_count": 10,
   "metadata": {},
   "outputs": [],
   "source": [
    "def gradient_descent(x, y, w0, b0, j, dj, alpha, num_iters): \n",
    "\n",
    "    \n",
    "    \n",
    "    J_history = []\n",
    "    w = copy.deepcopy(w0) \n",
    "    b = b0\n",
    "    \n",
    "    for i in range(num_iters):\n",
    "\n",
    "        \n",
    "        dj_db,dj_dw = dj(x, y, w, b)   \n",
    "\n",
    "        \n",
    "        w = w - alpha * dj_dw               \n",
    "        b = b - alpha * dj_db               \n",
    "      \n",
    "        \n",
    "        if i<100000:      \n",
    "            J_history.append( j(x, y, w, b))\n",
    "\n",
    "        \n",
    "        if i% math.ceil(num_iters / 10) == 0:\n",
    "             \n",
    "             print(f\"Iteration {i:4} : {np.array2string(J_history[-1], precision=1,formatter={'float': '{:.2e}'.format})}\\n\")\n",
    "                \n",
    "        \n",
    "    return w, b, J_history \n"
   ]
  },
  {
   "cell_type": "code",
   "execution_count": 11,
   "metadata": {},
   "outputs": [
    {
     "name": "stdout",
     "output_type": "stream",
     "text": [
      "Iteration    0 : [4.65e+00]\n",
      "\n",
      "Iteration  800 : [2.02e+00]\n",
      "\n",
      "Iteration 1600 : [1.35e+00]\n",
      "\n",
      "Iteration 2400 : [9.09e-01]\n",
      "\n",
      "Iteration 3200 : [6.20e-01]\n",
      "\n",
      "Iteration 4000 : [4.29e-01]\n",
      "\n",
      "Iteration 4800 : [3.04e-01]\n",
      "\n",
      "Iteration 5600 : [2.22e-01]\n",
      "\n",
      "Iteration 6400 : [1.67e-01]\n",
      "\n",
      "Iteration 7200 : [1.32e-01]\n",
      "\n",
      "b,w found by gradient descent: [4.18254372],[-0.2935975]\n",
      " \n",
      "prediction: [4.18254372], target value: 5.0\n",
      "\n",
      "prediction: [4.15318397], target value: 4.7\n",
      "\n",
      "prediction: [3.88894622], target value: 4.0\n",
      "\n",
      "prediction: [3.65406822], target value: 3.7\n",
      "\n",
      "prediction: [3.44854997], target value: 3.9\n",
      "\n",
      "prediction: [3.27239147], target value: 4.0\n",
      "\n",
      "prediction: [3.21367197], target value: 3.7\n",
      "\n",
      "prediction: [3.09623297], target value: 3.4\n",
      "\n",
      "prediction: [3.00815372], target value: 3.8\n",
      "\n",
      "prediction: [2.77327572], target value: 3.0\n",
      "\n",
      "prediction: [2.56775747], target value: 2.5\n",
      "\n",
      "prediction: [2.42095872], target value: 2.3\n",
      "\n",
      "prediction: [2.33287947], target value: 1.9\n",
      "\n",
      "prediction: [2.18608072], target value: 1.7\n",
      "\n",
      "prediction: [2.03928197], target value: 2.1\n",
      "\n",
      "prediction: [1.83376371], target value: 1.8\n",
      "\n",
      "prediction: [1.59888571], target value: 2.3\n",
      "\n",
      "prediction: [1.48144671], target value: 0.7\n",
      "\n",
      "prediction: [1.36400771], target value: 1.3\n",
      "\n",
      "prediction: [1.24656871], target value: 1.0\n",
      "\n"
     ]
    }
   ],
   "source": [
    "w0 = np.zeros_like(w0)                          #initial_w,initial_b\n",
    "b0 = 0\n",
    "\n",
    "iterations = 8000\n",
    "alpha = 1.0e-3\n",
    "\n",
    "w_f, b_f, J_hist = gradient_descent(x, y, w0 , b0 ,j, dj, alpha, iterations)\n",
    "\n",
    "print(f\"b,w found by gradient descent: {b_f},{w_f}\\n \")\n",
    "m,_ = x.shape\n",
    "for i in range(m):\n",
    "    print(f\"prediction: {np.dot(x[i],w_f)+b_f}, target value: {y[i]}\\n\")"
   ]
  },
  {
   "cell_type": "code",
   "execution_count": 12,
   "metadata": {},
   "outputs": [],
   "source": [
    "xx = np.linspace(0,11,100).reshape((-1, 1))\n",
    "\n",
    "yy = np.dot(xx, w_f) + b_f"
   ]
  },
  {
   "cell_type": "code",
   "execution_count": 13,
   "metadata": {},
   "outputs": [
    {
     "data": {
      "image/png": "[encoded data removed]",
      "text/plain": [
       "<Figure size 640x480 with 1 Axes>"
      ]
     },
     "metadata": {},
     "output_type": "display_data"
    }
   ],
   "source": [
    "plt.plot(x, y, 'o', xx, yy, 'r--') \n",
    "plt.legend(['Input Data', 'Regression function'])\n",
    "plt.show()"
   ]
  },
  {
   "cell_type": "code",
   "execution_count": 14,
   "metadata": {},
   "outputs": [
    {
     "data": {
      "image/png": "[encoded data removed]",
      "text/plain": [
       "<Figure size 640x480 with 1 Axes>"
      ]
     },
     "metadata": {},
     "output_type": "display_data"
    }
   ],
   "source": [
    "plt.plot(J_hist)\n",
    "plt.show()\n"
   ]
  },
  {
   "cell_type": "code",
   "execution_count": null,
   "metadata": {},
   "outputs": [],
   "source": []
  }
 ],
 "metadata": {
  "kernelspec": {
   "display_name": "base",
   "language": "python",
   "name": "python3"
  },
  "language_info": {
   "codemirror_mode": {
    "name": "ipython",
    "version": 3
   },
   "file_extension": ".py",
   "mimetype": "text/x-python",
   "name": "python",
   "nbconvert_exporter": "python",
   "pygments_lexer": "ipython3",
   "version": "3.11.5"
  }
 },
 "nbformat": 4,
 "nbformat_minor": 2
}

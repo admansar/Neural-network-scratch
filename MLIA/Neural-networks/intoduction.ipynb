{
 "cells": [
  {
   "cell_type": "markdown",
   "id": "e48cb386",
   "metadata": {
    "pycharm": {
     "name": "#%% md\n"
    }
   },
   "source": [
    "<h1><center><ins> Brief Introduction to Python and Jupyter Notebooks </ins></center></h1>"
   ]
  },
  {
   "cell_type": "markdown",
   "id": "c5c701c3",
   "metadata": {
    "pycharm": {
     "name": "#%% md\n"
    }
   },
   "source": [
    "In this lab, we will see:\n",
    "- Brief introduction to Jupyter notebooks and Python\n",
    "- Learn the difference between markdown cells and code cells\n",
    "- Vectors, Array and vectorization technique\n",
    "- Practice some basic python libraries\n",
    "- Manipulation of functions"
   ]
  },
  {
   "cell_type": "markdown",
   "id": "5d75a8c0",
   "metadata": {
    "pycharm": {
     "name": "#%% md\n"
    }
   },
   "source": [
    "The easiest way to become familiar with Jupyter notebooks is to take the tour available above in the Help menu:"
   ]
  },
  {
   "cell_type": "markdown",
   "id": "9ee5b6d6",
   "metadata": {
    "pycharm": {
     "name": "#%% md\n"
    }
   },
   "source": [
    "<figure>\n",
    "    <center> <img src=\"./images/C1W1L1_Tour.PNG\"  alt='missing' width=\"400\"  ><center/>\n",
    "<figure/>"
   ]
  },
  {
   "cell_type": "markdown",
   "id": "95282e2a",
   "metadata": {
    "pycharm": {
     "name": "#%% md\n"
    }
   },
   "source": [
    "- Jupyter notebooks have two types of cells that are used in this course. Cells such as this which contain text and documentation called `Markdown Cells`. \n",
    "- Its useful to understand the `cell pulldown` shown in graphic below. Occasionally, a cell will end up in the wrong mode and you may need to restore it to the right state:"
   ]
  },
  {
   "cell_type": "markdown",
   "id": "98229c9e",
   "metadata": {
    "pycharm": {
     "name": "#%% md\n"
    }
   },
   "source": [
    "<figure><center>\n",
    "   <img src=\"./images/C1W1L1_Markdown.PNG\"  alt='missing' width=\"400\"  >\n",
    "</center><figure/>"
   ]
  },
  {
   "cell_type": "markdown",
   "id": "048b4ee9",
   "metadata": {
    "pycharm": {
     "name": "#%% md\n"
    }
   },
   "source": [
    "The other type of cell is the `code cell` where you will write your code:"
   ]
  },
  {
   "cell_type": "code",
   "execution_count": 1,
   "id": "696502c1",
   "metadata": {
    "pycharm": {
     "name": "#%%\n"
    }
   },
   "outputs": [
    {
     "name": "stdout",
     "output_type": "stream",
     "text": [
      "This is  code cell\n"
     ]
    }
   ],
   "source": [
    "#This is  a 'Code' Cell\n",
    "print(\"This is  code cell\")"
   ]
  },
  {
   "cell_type": "markdown",
   "id": "f1f07a94",
   "metadata": {
    "pycharm": {
     "name": "#%% md\n"
    }
   },
   "source": [
    "## Python\n",
    "You can write your code in the code cells. \n",
    "To run the code, select the cell and either\n",
    "- hold the shift-key down and hit 'enter' or 'return'\n",
    "- click the 'run' arrow above\n",
    "<figure><center>\n",
    "    <img src=\"./images/C1W1L1_Run.PNG\"  width=\"400\"  >    \n",
    "</center><figure/>\n",
    "\n",
    " "
   ]
  },
  {
   "cell_type": "markdown",
   "id": "e1aa5204",
   "metadata": {
    "pycharm": {
     "name": "#%% md\n"
    }
   },
   "source": [
    "### Print statement\n",
    "Print statements will generally use the python f-string style.  \n",
    "Try creating your own print in the following cell.  \n",
    "Try both methods of running the cell."
   ]
  },
  {
   "cell_type": "code",
   "execution_count": 2,
   "id": "aded8468",
   "metadata": {
    "pycharm": {
     "name": "#%%\n"
    }
   },
   "outputs": [
    {
     "name": "stdout",
     "output_type": "stream",
     "text": [
      "f strings allow you to embed variables right in the strings!\n",
      "We have {number} day left to the exam\n",
      "We have 11 day left to the exam\n"
     ]
    }
   ],
   "source": [
    "# print statements\n",
    "variable = \"right in the strings!\"\n",
    "print(f\"f strings allow you to embed variables {variable}\")\n",
    "\n",
    "number = 11\n",
    "print(\"We have {number} day left to the exam\")\n",
    "\n",
    "print(f\"We have {number} day left to the exam\")"
   ]
  },
  {
   "cell_type": "markdown",
   "id": "e94826c6",
   "metadata": {},
   "source": [
    "### NumPy library\n",
    "\n",
    "It is a Python library used for working with arrays. It also has functions for working in domain of linear algebra, fourier transform, and matrices"
   ]
  },
  {
   "cell_type": "code",
   "execution_count": 2,
   "id": "bff5398d",
   "metadata": {},
   "outputs": [
    {
     "name": "stdout",
     "output_type": "stream",
     "text": [
      "with np.sqrt function we can compute the sqrt of any positive real number like 9, which is equal to 3.0\n",
      "with np.cos function we can compute the cosinus of any real number like $\\pi$, which is equal to -1.0\n"
     ]
    }
   ],
   "source": [
    "import numpy as np\n",
    "sq_num = np.sqrt(9)\n",
    "print(f\"with np.sqrt function we can compute the sqrt of any positive real number like 9, which is equal to {sq_num}\")\n",
    "\n",
    "cos_pi = np.cos(np.pi)\n",
    "print(f\"with np.cos function we can compute the cosinus of any real number like $\\pi$, which is equal to {cos_pi}\")"
   ]
  },
  {
   "cell_type": "markdown",
   "id": "3c32b178",
   "metadata": {},
   "source": [
    "## Array and vectors"
   ]
  },
  {
   "cell_type": "code",
   "execution_count": 62,
   "id": "cef1d5ff",
   "metadata": {},
   "outputs": [
    {
     "name": "stdout",
     "output_type": "stream",
     "text": [
      "[1, 2, 3]\n",
      "[[1, 6], [1, 0, 2]]\n",
      "[[-1, 2, 4], [0, 3, -9]]\n"
     ]
    }
   ],
   "source": [
    "import array as arr\n",
    "\n",
    "vector=[1,2,3]\n",
    "print(vector)\n",
    "\n",
    "matrix = [[1, 6],\n",
    "          [1, 0, 2]]\n",
    "print(matrix)\n",
    "\n",
    "matrix = [[-1, 2, 4],\n",
    "          [0, 3, -9]]\n",
    "print(matrix)"
   ]
  },
  {
   "cell_type": "code",
   "execution_count": 19,
   "id": "ba45a70b-6b4f-478b-b54f-05679dac2c30",
   "metadata": {},
   "outputs": [
    {
     "data": {
      "text/plain": [
       "array([[3, 3],\n",
       "       [4, 2]])"
      ]
     },
     "execution_count": 19,
     "metadata": {},
     "output_type": "execute_result"
    }
   ],
   "source": [
    "x=np.array([[[1],[2]],[[3],[4]]])\n",
    "np.shape(x)\n",
    "\n",
    "a=np.random.randn(2,3) # a.shape=(2,3)a.shape=(2,3)\n",
    "\n",
    "b=np.random.randn(2,1)# b.shape=(2,1)b.shape=(2,1)\n",
    "\n",
    "c=a+b\n",
    "\n",
    "c.shape\n",
    "\n",
    "a=np.array([[2,1],[1,3]])\n",
    "\n",
    "a*a\n",
    "\n",
    "a=np.array([[1,1],[1,-1]])\n",
    "\n",
    "b=np.array([[2],[3]])\n",
    "\n",
    "c=a+b\n",
    "c\n",
    "#a=np.random.randn(4,3) # a.shape=(4,3)a.shape=(4,3)\n",
    "\n",
    "#b=np.random.randn(3,2)# b.shape=(3,2)b.shape=(3,2)\n",
    "\n",
    "#c=a*b\n",
    "\n",
    "#c.shape"
   ]
  },
  {
   "cell_type": "markdown",
   "id": "7adc3e51-80b9-41fa-a83c-4982b62d9a6f",
   "metadata": {},
   "source": [
    "## Vectorization\n",
    "\n",
    "In this part, we will see how to reduce the computation time and to compact the code using vectorization. We show an example for the product, but it is available for other operations."
   ]
  },
  {
   "cell_type": "code",
   "execution_count": 65,
   "id": "2fc24cf5-e7e0-4f54-85af-43f78dcd9886",
   "metadata": {},
   "outputs": [
    {
     "name": "stdout",
     "output_type": "stream",
     "text": [
      "a=[0, 1, 2, 3, 4, 5, 6, 7, 8, 9]\n",
      "b=[10, 9, 8, 7, 6, 5, 4, 3, 2, 1]\n"
     ]
    }
   ],
   "source": [
    "a = []; b = [];\n",
    "for k in range(10):\n",
    "    a.append(k);\n",
    "    b.append(10-k);\n",
    "    \n",
    "print(f'a={a}')\n",
    "print(f'b={b}')"
   ]
  },
  {
   "cell_type": "code",
   "execution_count": 26,
   "id": "12769604-a66c-4d61-90b9-3e9926ae73d7",
   "metadata": {},
   "outputs": [],
   "source": [
    "a = []; b = [];\n",
    "for k in range(100000):\n",
    "    a.append(k);\n",
    "    b.append(2*k);"
   ]
  },
  {
   "cell_type": "code",
   "execution_count": 27,
   "id": "acc6236e-2da9-44a0-9ba6-430c4c96578a",
   "metadata": {},
   "outputs": [
    {
     "name": "stdout",
     "output_type": "stream",
     "text": [
      "666656666700000\n",
      "Elabsed time : 0.033476810999999884\n"
     ]
    }
   ],
   "source": [
    "import time # this library allows to compute time\n",
    "\n",
    "# Non-vectorized product\n",
    "tic = time.process_time() # record the starting time for computation\n",
    "\n",
    "ab_nv = 0\n",
    "for k in range(100000):\n",
    "    ab_nv += a[k]*b[k]\n",
    "\n",
    "toc = time.process_time() # record the ending time for computation\n",
    "print(ab_nv)\n",
    "print(f'Elabsed time : {toc-tic}')"
   ]
  },
  {
   "cell_type": "code",
   "execution_count": 28,
   "id": "63b1a033-be72-4c18-8bbd-9f062089aefd",
   "metadata": {},
   "outputs": [
    {
     "name": "stdout",
     "output_type": "stream",
     "text": [
      "666656666700000\n",
      "Elabsed time : 0.022557579999999966\n"
     ]
    }
   ],
   "source": [
    "# Vectorized product\n",
    "tic = time.process_time() # record the starting time for computation\n",
    "\n",
    "ab_v = np.dot(a,b)\n",
    "\n",
    "toc = time.process_time() # record the ending time for computation\n",
    "print(ab_v)\n",
    "print(f'Elabsed time : {toc-tic}')"
   ]
  },
  {
   "cell_type": "markdown",
   "id": "9303b23d",
   "metadata": {},
   "source": [
    "### MatPlotLib library\n",
    "\n",
    "It is a comprehensive library for creating static, animated, and interactive visualizations in Python."
   ]
  },
  {
   "cell_type": "code",
   "execution_count": 61,
   "id": "04b653a1",
   "metadata": {},
   "outputs": [
    {
     "data": {
      "image/png": "[encoded data removed]",
      "text/plain": [
       "<Figure size 640x480 with 1 Axes>"
      ]
     },
     "metadata": {},
     "output_type": "display_data"
    },
    {
     "data": {
      "image/png": "[encoded data removed]",
      "text/plain": [
       "<Figure size 640x480 with 1 Axes>"
      ]
     },
     "metadata": {},
     "output_type": "display_data"
    }
   ],
   "source": [
    "import matplotlib.pyplot as plt\n",
    "\n",
    "xpoints = [1,2,3,4,5,6]\n",
    "ypoints = [-1,2,0,1,4,9]\n",
    "\n",
    "plt.plot(xpoints, ypoints)\n",
    "plt.show()"
   ]
  },
  {
   "cell_type": "code",
   "execution_count": null,
   "id": "7c1bab73-288a-46b7-ab1b-bd034a65fa7d",
   "metadata": {},
   "outputs": [],
   "source": [
    "plt.plot(xpoints, ypoints,'v',color='r')\n",
    "plt.show()"
   ]
  },
  {
   "cell_type": "markdown",
   "id": "2faddeb1",
   "metadata": {},
   "source": [
    "## Functions\n",
    "In this part we will see how to create a function in Python language. For that we use the keyword **def**."
   ]
  },
  {
   "cell_type": "code",
   "execution_count": 83,
   "id": "711c4cca",
   "metadata": {},
   "outputs": [],
   "source": [
    "def f1(x):\n",
    "    return x*x\n",
    "\n",
    "def f2(x):\n",
    "    return np.cos(np.pi*x)"
   ]
  },
  {
   "cell_type": "code",
   "execution_count": 86,
   "id": "b9ef4c4e",
   "metadata": {},
   "outputs": [],
   "source": [
    "x = np.linspace(-1,1,1000)\n",
    "y1 = f1(x)\n",
    "y2 = f2(x)"
   ]
  },
  {
   "cell_type": "markdown",
   "id": "cc66abf0-4396-4643-a9cb-b6f3abd46207",
   "metadata": {},
   "source": [
    "### Plot two functions (or more) on the same figure"
   ]
  },
  {
   "cell_type": "code",
   "execution_count": 1,
   "id": "45bb9a8e",
   "metadata": {},
   "outputs": [
    {
     "ename": "NameError",
     "evalue": "name 'plt' is not defined",
     "output_type": "error",
     "traceback": [
      "\u001b[0;31m---------------------------------------------------------------------------\u001b[0m",
      "\u001b[0;31mNameError\u001b[0m                                 Traceback (most recent call last)",
      "Cell \u001b[0;32mIn[1], line 1\u001b[0m\n\u001b[0;32m----> 1\u001b[0m \u001b[43mplt\u001b[49m\u001b[38;5;241m.\u001b[39mplot(x, y1, \u001b[38;5;124m'\u001b[39m\u001b[38;5;124mr\u001b[39m\u001b[38;5;124m'\u001b[39m, x, y2, \u001b[38;5;124m'\u001b[39m\u001b[38;5;124mb\u001b[39m\u001b[38;5;124m'\u001b[39m) \n\u001b[1;32m      2\u001b[0m plt\u001b[38;5;241m.\u001b[39mlegend([\u001b[38;5;124m'\u001b[39m\u001b[38;5;124mfunction f1\u001b[39m\u001b[38;5;124m'\u001b[39m, \u001b[38;5;124m'\u001b[39m\u001b[38;5;124mfunction f2\u001b[39m\u001b[38;5;124m'\u001b[39m])\n\u001b[1;32m      3\u001b[0m plt\u001b[38;5;241m.\u001b[39mshow()\n",
      "\u001b[0;31mNameError\u001b[0m: name 'plt' is not defined"
     ]
    }
   ],
   "source": [
    "plt.plot(x, y1, 'r', x, y2, 'b') \n",
    "plt.legend(['function f1', 'function f2'])\n",
    "plt.show()"
   ]
  },
  {
   "cell_type": "markdown",
   "id": "bf219d9c",
   "metadata": {
    "pycharm": {
     "name": "#%% md\n"
    }
   },
   "source": [
    "# Congrats!\n",
    "Now, you know how to find your way around a Jupyter Notebook."
   ]
  }
 ],
 "metadata": {
  "kernelspec": {
   "display_name": "Python 3 (ipykernel)",
   "language": "python",
   "name": "python3"
  },
  "language_info": {
   "codemirror_mode": {
    "name": "ipython",
    "version": 3
   },
   "file_extension": ".py",
   "mimetype": "text/x-python",
   "name": "python",
   "nbconvert_exporter": "python",
   "pygments_lexer": "ipython3",
   "version": "3.10.12"
  }
 },
 "nbformat": 4,
 "nbformat_minor": 5
}

{
 "cells": [
  {
   "cell_type": "markdown",
   "id": "80ce221c-6c8d-4035-80a8-9472de8e0cc5",
   "metadata": {},
   "source": [
    "# Descent Gradient Algorithm\n",
    "\n",
    "First we start by defining a function $\\bf{ gradient\\_descent}$ implementing the Descent Gradient Algorithm to solve  $\\min\\limits_x f(x)$"
   ]
  },
  {
   "cell_type": "code",
   "execution_count": 1,
   "id": "1fd3898a-9752-49c3-aee9-f85bf8fc12d2",
   "metadata": {},
   "outputs": [],
   "source": [
    "def gradient_descent(x0,alpha,tol,num_iters,f,df):\n",
    "    \"\"\"\n",
    "    Performs gradient descent to minimize a given function f. \n",
    "    x = x - alpha*df(x)\n",
    "    Args:\n",
    "      x (ndarray (m,))  : Data, m examples     \n",
    "      alpha (float):     step size\n",
    "      num_iters (int):   number of iterations to run gradient descent\n",
    "      f:  cost function\n",
    "      df: gradient function\n",
    "      \n",
    "    Returns:\n",
    "      x \n",
    "      J_history (List): History of cost values\n",
    "      \"\"\"\n",
    "    # initialization\n",
    "    err = 1\n",
    "    iter = 0\n",
    "    x = x0\n",
    "    f_history = []\n",
    "    # Performing the steps\n",
    "    while(iter < num_iters and err > tol):\n",
    "        x = x0 - alpha * df(x)\n",
    "        err = abs(x-x0)\n",
    "        #err = abs(df(x))\n",
    "        iter = iter + 1\n",
    "        x0 = x\n",
    "        # Save cost J at each iteration\n",
    "        if iter<100000:      # prevent resource exhaustion \n",
    "            f_history.append( f(x))\n",
    "        # Printing the results at each iteration\n",
    "        print(f'n={iter};\\t x = {x:.7f};\\t\\t err = {err:.3E}')\n",
    "        \n",
    "    return x, f_history"
   ]
  },
  {
   "cell_type": "markdown",
   "id": "f23f51b4-a661-49b2-b091-a29ec56578e7",
   "metadata": {},
   "source": [
    "## Example "
   ]
  },
  {
   "cell_type": "code",
   "execution_count": 2,
   "id": "ec985ff9-b846-4744-b199-c87673b82764",
   "metadata": {},
   "outputs": [],
   "source": [
    "def f(x):\n",
    "    return x**2-3*x+9\n",
    "\n",
    "def df(x):\n",
    "    return 2*x-3"
   ]
  },
  {
   "cell_type": "markdown",
   "id": "6594368f-cc70-4017-9389-f9a8646e7960",
   "metadata": {},
   "source": [
    "## Initialization "
   ]
  },
  {
   "cell_type": "code",
   "execution_count": 3,
   "id": "ce39bca2-bfe2-4fcd-9354-54b8b884a9a3",
   "metadata": {},
   "outputs": [],
   "source": [
    "x0 = 10\n",
    "alpha = 0.25\n",
    "tol = 1E-5\n",
    "Nmax = 100"
   ]
  },
  {
   "cell_type": "markdown",
   "id": "8d7362a3-989f-44dd-9ce3-882f8b03aee0",
   "metadata": {},
   "source": [
    "## Performing the minimization by calling the function gradient_descent"
   ]
  },
  {
   "cell_type": "code",
   "execution_count": 4,
   "id": "0270b25a-16c6-43d9-b1ef-db6a6a5c01f1",
   "metadata": {},
   "outputs": [
    {
     "name": "stdout",
     "output_type": "stream",
     "text": [
      "n=1;\t x = 5.7500000;\t\t err = 4.250E+00\n",
      "n=2;\t x = 3.6250000;\t\t err = 2.125E+00\n",
      "n=3;\t x = 2.5625000;\t\t err = 1.062E+00\n",
      "n=4;\t x = 2.0312500;\t\t err = 5.312E-01\n",
      "n=5;\t x = 1.7656250;\t\t err = 2.656E-01\n",
      "n=6;\t x = 1.6328125;\t\t err = 1.328E-01\n",
      "n=7;\t x = 1.5664062;\t\t err = 6.641E-02\n",
      "n=8;\t x = 1.5332031;\t\t err = 3.320E-02\n",
      "n=9;\t x = 1.5166016;\t\t err = 1.660E-02\n",
      "n=10;\t x = 1.5083008;\t\t err = 8.301E-03\n",
      "n=11;\t x = 1.5041504;\t\t err = 4.150E-03\n",
      "n=12;\t x = 1.5020752;\t\t err = 2.075E-03\n",
      "n=13;\t x = 1.5010376;\t\t err = 1.038E-03\n",
      "n=14;\t x = 1.5005188;\t\t err = 5.188E-04\n",
      "n=15;\t x = 1.5002594;\t\t err = 2.594E-04\n",
      "n=16;\t x = 1.5001297;\t\t err = 1.297E-04\n",
      "n=17;\t x = 1.5000648;\t\t err = 6.485E-05\n",
      "n=18;\t x = 1.5000324;\t\t err = 3.242E-05\n",
      "n=19;\t x = 1.5000162;\t\t err = 1.621E-05\n",
      "n=20;\t x = 1.5000081;\t\t err = 8.106E-06\n"
     ]
    }
   ],
   "source": [
    "x, f_hist = gradient_descent(x0,alpha,tol,Nmax,f,df)"
   ]
  },
  {
   "cell_type": "markdown",
   "id": "c67f0705-4aac-410a-915e-194bd4f66871",
   "metadata": {},
   "source": [
    "Ploting the error decay with respect to number of iterations"
   ]
  },
  {
   "cell_type": "code",
   "execution_count": 5,
   "id": "9f2240bd-f161-43ee-b950-54ac2987b814",
   "metadata": {},
   "outputs": [
    {
     "data": {
      "image/png": "[encoded data removed]",
      "text/plain": [
       "<Figure size 640x480 with 1 Axes>"
      ]
     },
     "metadata": {},
     "output_type": "display_data"
    }
   ],
   "source": [
    "import matplotlib.pyplot as plt\n",
    "\n",
    "plt.plot(f_hist)\n",
    "plt.show()"
   ]
  },
  {
   "cell_type": "markdown",
   "id": "65fe0e21-1e6e-4786-ba45-0ed716817270",
   "metadata": {},
   "source": [
    "# Congrats\n",
    "You have learn how to implement the descent gradient algorithm!"
   ]
  }
 ],
 "metadata": {
  "kernelspec": {
   "display_name": "Python 3 (ipykernel)",
   "language": "python",
   "name": "python3"
  },
  "language_info": {
   "codemirror_mode": {
    "name": "ipython",
    "version": 3
   },
   "file_extension": ".py",
   "mimetype": "text/x-python",
   "name": "python",
   "nbconvert_exporter": "python",
   "pygments_lexer": "ipython3",
   "version": "3.10.12"
  }
 },
 "nbformat": 4,
 "nbformat_minor": 5
}

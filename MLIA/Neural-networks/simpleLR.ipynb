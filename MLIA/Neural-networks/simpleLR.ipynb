{
 "cells": [
  {
   "cell_type": "markdown",
   "id": "03991616-5bdb-46b6-88ad-bdd5eec84486",
   "metadata": {},
   "source": [
    "# Simple linear regression task"
   ]
  },
  {
   "cell_type": "markdown",
   "id": "6d6e6de6-2934-40a3-a983-ac487c86de14",
   "metadata": {},
   "source": [
    "First we import some libraries"
   ]
  },
  {
   "cell_type": "code",
   "execution_count": 1,
   "id": "60959610-1c6a-490f-92c3-89e3d1412c16",
   "metadata": {},
   "outputs": [],
   "source": [
    "import numpy as np\n",
    "import matplotlib.pyplot as plt\n",
    "import math, copy"
   ]
  },
  {
   "cell_type": "markdown",
   "id": "6bad8a47-3b8d-4d0a-92f3-467bd210501b",
   "metadata": {},
   "source": [
    "Now, we consider a simple data which we want to learn"
   ]
  },
  {
   "cell_type": "code",
   "execution_count": 2,
   "id": "6d008665-f451-4d38-892c-955ed707f8b0",
   "metadata": {},
   "outputs": [
    {
     "data": {
      "image/png": "[encoded data removed]",
      "text/plain": [
       "<Figure size 640x480 with 1 Axes>"
      ]
     },
     "metadata": {},
     "output_type": "display_data"
    }
   ],
   "source": [
    "x = np.array([0, 0.1, 1, 1.8, 2.5, 3.1, 3.3, 3.7, 4, 4.8, 5.5, 6, 6.3, 6.8, 7.3, 8, 8.8, 9.2, 9.6, 10])\n",
    "y = np.array([5, 4.7, 4, 3.7, 3.9, 4, 3.7, 3.4, 3.8, 3, 2.5, 2.3, 1.9, 1.7, 2.1, 1.8, 2.3, 0.7, 1.3, 1])\n",
    "\n",
    "plt.plot(x, y,'o',color='k')\n",
    "plt.show()"
   ]
  },
  {
   "cell_type": "markdown",
   "id": "ac93fcc4-32fb-49c1-a7dd-88aa3419da82",
   "metadata": {},
   "source": [
    "Let us define the activation function."
   ]
  },
  {
   "cell_type": "code",
   "execution_count": 3,
   "id": "d4b3649e-7145-4492-814c-edfbc60753c9",
   "metadata": {},
   "outputs": [],
   "source": [
    "def activation(x, w, b):\n",
    "    return w*x+b"
   ]
  },
  {
   "cell_type": "markdown",
   "id": "eae5a6c9-621d-44a7-90ca-bf44a90abf3b",
   "metadata": {},
   "source": [
    "And so on we define the cost functional"
   ]
  },
  {
   "cell_type": "code",
   "execution_count": 4,
   "id": "eeb92a9d-1f28-4bf7-9fc8-f31ebf2fbb4d",
   "metadata": {},
   "outputs": [],
   "source": [
    "def compute_cost(x, y, w, b):\n",
    "    \"\"\"\n",
    "    Computes the cost for f(x)=w*x+b when w and b are scalars\n",
    "    Args:\n",
    "      x (ndarray (m,)): data (vector) , m examples \n",
    "      y (ndarray (m,)): target values\n",
    "      w,b (scalar)    : model parameters  \n",
    "    Returns\n",
    "      sum(yhat-y)**2    \n",
    "     \"\"\"\n",
    "    \n",
    "    m = x.shape[0] \n",
    "    cost = 0\n",
    "    \n",
    "    for i in range(m):\n",
    "        yhat = activation(x[i],w,b)\n",
    "        cost = cost + (yhat - y[i])**2\n",
    "    total_cost = 1 / (2 * m) * cost\n",
    "\n",
    "    return total_cost"
   ]
  },
  {
   "cell_type": "markdown",
   "id": "50e019c3-4de1-4b47-9a5e-5cceb8c71d54",
   "metadata": {},
   "source": [
    "We will need the gradient of the cost functional in order to apply the gradient descent algorithm"
   ]
  },
  {
   "cell_type": "code",
   "execution_count": 5,
   "id": "10f2aef7-1166-4c06-8095-4788f0ab59f7",
   "metadata": {},
   "outputs": [],
   "source": [
    "def compute_gradient(x, y, w, b): \n",
    "    \"\"\"\n",
    "    Computes the gradient for f(x)=w*x+b when w and b are scalars\n",
    "    Args:\n",
    "      x (ndarray (m,)): data (vector) , m examples \n",
    "      y (ndarray (m,)): target values\n",
    "      w,b (scalar)    : model parameters  \n",
    "    Returns\n",
    "      dJ_dw (scalar): The gradient of the cost w.r.t. the parameters w\n",
    "      dJ_db (scalar): The gradient of the cost w.r.t. the parameter b     \n",
    "     \"\"\"\n",
    "    \n",
    "    # Number of training examples\n",
    "    m = x.shape[0]    \n",
    "    dJ_dw = 0\n",
    "    dJ_db = 0\n",
    "    \n",
    "    for i in range(m):  \n",
    "        f_wb = w * x[i] + b \n",
    "        dJ_dw_i = (f_wb - y[i]) * x[i] \n",
    "        dJ_db_i = f_wb - y[i] \n",
    "        dJ_db += dJ_db_i\n",
    "        dJ_dw += dJ_dw_i \n",
    "        \n",
    "    dJ_dw = dJ_dw / m \n",
    "    dJ_db = dJ_db / m \n",
    "        \n",
    "    return dJ_dw, dJ_db"
   ]
  },
  {
   "cell_type": "code",
   "execution_count": 6,
   "id": "973ac49c-9f3c-45be-9016-331b75e12f92",
   "metadata": {},
   "outputs": [],
   "source": [
    "def gradient_descent(x, y, w0, b0, alpha, num_iters, cost_function, gradient_function): \n",
    "    \"\"\"\n",
    "    Performs gradient descent to fit w,b. Updates w,b by taking \n",
    "    num_iters gradient steps with learning rate alpha\n",
    "    \n",
    "    Args:\n",
    "      x (ndarray (m,))  : Data, m examples \n",
    "      y (ndarray (m,))  : target values\n",
    "      w_in,b_in (scalar): initial values of model parameters  \n",
    "      alpha (float):     Learning rate\n",
    "      num_iters (int):   number of iterations to run gradient descent\n",
    "      cost_function:     function to call to produce cost\n",
    "      gradient_function: function to call to produce gradient\n",
    "      \n",
    "    Returns:\n",
    "      w (scalar): Updated value of parameter after running gradient descent\n",
    "      b (scalar): Updated value of parameter after running gradient descent\n",
    "      J_history (List): History of cost values\n",
    "      p_history (list): History of parameters [w,b] \n",
    "      \"\"\"\n",
    "    \n",
    "    w = copy.deepcopy(w0) # avoid modifying global w_in\n",
    "    # An empty vector to store cost J and w's at each iteration primarily for graphing later\n",
    "    J_history = []\n",
    "\n",
    "    b = b0\n",
    "    w = w0\n",
    "    \n",
    "    for i in range(num_iters):\n",
    "        # Calculate the gradient and update the parameters using gradient_function\n",
    "        dj_dw, dj_db = gradient_function(x, y, w , b)     \n",
    "\n",
    "        # Update Parameters using equation (3) above\n",
    "        b = b - alpha * dj_db                            \n",
    "        w = w - alpha * dj_dw                            \n",
    "\n",
    "        # Save cost J at each iteration\n",
    "        if i<100000:      # prevent resource exhaustion \n",
    "            J_history.append( cost_function(x, y, w , b))\n",
    "        # Print cost every at intervals 10 times or as many iterations if < 10\n",
    "        if i% math.ceil(num_iters/10) == 0:\n",
    "            print(f\"Iteration {i:4}: Cost {J_history[-1]:0.2e}\")\n",
    " \n",
    "    return w, b, J_history #return w and J,w history for graphing"
   ]
  },
  {
   "cell_type": "markdown",
   "id": "6f2c34bf-d4d6-48be-b5d4-c7e56df986bd",
   "metadata": {},
   "source": [
    "Now, we are in good position to make some regression. First we give some initial values"
   ]
  },
  {
   "cell_type": "code",
   "execution_count": 7,
   "id": "223d6402-a408-4e6d-8d47-f226eed3d295",
   "metadata": {},
   "outputs": [
    {
     "name": "stdout",
     "output_type": "stream",
     "text": [
      "Iteration    0: Cost 3.73e+00\n",
      "Iteration  200: Cost 1.10e+00\n",
      "Iteration  400: Cost 4.26e-01\n",
      "Iteration  600: Cost 1.91e-01\n",
      "Iteration  800: Cost 1.08e-01\n",
      "Iteration 1000: Cost 7.91e-02\n",
      "Iteration 1200: Cost 6.89e-02\n",
      "Iteration 1400: Cost 6.54e-02\n",
      "Iteration 1600: Cost 6.42e-02\n",
      "Iteration 1800: Cost 6.37e-02\n"
     ]
    }
   ],
   "source": [
    "# initialize parameters\n",
    "w0 = 0\n",
    "b0 = 0\n",
    "# some gradient descent settings\n",
    "iterations = 2000\n",
    "tmp_alpha = 1.0e-2\n",
    "# run gradient descent\n",
    "w_final, b_final, J_hist = gradient_descent(x ,y, w0, b0, tmp_alpha,iterations, compute_cost, compute_gradient)\n"
   ]
  },
  {
   "cell_type": "markdown",
   "id": "eed9df32-d710-4874-8bf1-ba7b5b5f476f",
   "metadata": {},
   "source": [
    "We got our optimal $(w,b)$, now let us draw the line $y=w*x+b$"
   ]
  },
  {
   "cell_type": "code",
   "execution_count": 8,
   "id": "7042a3f6-cce3-460a-8f91-9a2dfea14632",
   "metadata": {},
   "outputs": [],
   "source": [
    "xx = np.linspace(0,11,1000)\n",
    "yy = w_final*xx+b_final"
   ]
  },
  {
   "cell_type": "code",
   "execution_count": 9,
   "id": "f93fe12c-db3b-43a6-adef-3c53b094f00d",
   "metadata": {},
   "outputs": [
    {
     "data": {
      "image/png": "[encoded data removed]",
      "text/plain": [
       "<Figure size 640x480 with 1 Axes>"
      ]
     },
     "metadata": {},
     "output_type": "display_data"
    }
   ],
   "source": [
    "plt.plot(x, y, 'o', xx, yy, 'r--') \n",
    "plt.legend(['Input Data', 'Regression function'])\n",
    "plt.show()"
   ]
  },
  {
   "cell_type": "markdown",
   "id": "b6696029-a17e-4294-b5c4-e021dd893822",
   "metadata": {},
   "source": [
    "Also we can plot the cost with respect to number of iteration"
   ]
  },
  {
   "cell_type": "code",
   "execution_count": 10,
   "id": "4543c025-447d-4c59-8956-678100e36bc8",
   "metadata": {},
   "outputs": [
    {
     "data": {
      "image/png": "[encoded data removed]",
      "text/plain": [
       "<Figure size 640x480 with 1 Axes>"
      ]
     },
     "metadata": {},
     "output_type": "display_data"
    }
   ],
   "source": [
    "plt.plot(J_hist)\n",
    "plt.show()"
   ]
  },
  {
   "cell_type": "markdown",
   "id": "94f0fa10-0005-4b2e-a7a1-8744b3e9fb0e",
   "metadata": {},
   "source": [
    "# Congrats\n",
    "You have learn how to make some regression!"
   ]
  },
  {
   "cell_type": "code",
   "execution_count": null,
   "id": "be7ba09c-bb18-4c7d-b288-215d960d4adb",
   "metadata": {},
   "outputs": [],
   "source": []
  }
 ],
 "metadata": {
  "kernelspec": {
   "display_name": "Python 3 (ipykernel)",
   "language": "python",
   "name": "python3"
  },
  "language_info": {
   "codemirror_mode": {
    "name": "ipython",
    "version": 3
   },
   "file_extension": ".py",
   "mimetype": "text/x-python",
   "name": "python",
   "nbconvert_exporter": "python",
   "pygments_lexer": "ipython3",
   "version": "3.10.12"
  }
 },
 "nbformat": 4,
 "nbformat_minor": 5
}
